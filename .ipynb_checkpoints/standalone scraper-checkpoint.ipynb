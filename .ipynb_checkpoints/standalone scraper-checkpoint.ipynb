{
 "cells": [
  {
   "cell_type": "code",
   "execution_count": null,
   "metadata": {},
   "outputs": [],
   "source": [
    "from os import listdir\n",
    "import extractor # Custom functions\n",
    "\n",
    "path = \".\\\\articles\"\n",
    "articles = listdir(path)\n",
    "articles.remove(\".ipynb_checkpoints\")\n",
    "old_n = len(articles)\n",
    "\n",
    "link_categories = [\"binnenland\",\"buitenland\",\"regio\",\"politiek\",\"economie\",\"koningshuis\",\n",
    "                   \"tech\",\"cultuur-en-media\",\"opmerkelijk\"]\n",
    "\n",
    "extractor.scrape(link_categories)\n",
    "\n",
    "path = \".\\\\articles\"\n",
    "articles = listdir(path)\n",
    "articles.remove(\".ipynb_checkpoints\")\n",
    "print(f\"Total articles: {len(articles)} (+{len(articles)-old_n})\")"
   ]
  }
 ],
 "metadata": {
  "kernelspec": {
   "display_name": "Python 3",
   "language": "python",
   "name": "python3"
  },
  "language_info": {
   "codemirror_mode": {
    "name": "ipython",
    "version": 3
   },
   "file_extension": ".py",
   "mimetype": "text/x-python",
   "name": "python",
   "nbconvert_exporter": "python",
   "pygments_lexer": "ipython3",
   "version": "3.7.7"
  }
 },
 "nbformat": 4,
 "nbformat_minor": 4
}
