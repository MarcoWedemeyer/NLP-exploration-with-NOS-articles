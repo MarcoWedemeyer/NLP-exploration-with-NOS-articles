{
 "cells": [
  {
   "cell_type": "markdown",
   "metadata": {},
   "source": [
    "# Multilabel document classification of NOS articles"
   ]
  },
  {
   "cell_type": "markdown",
   "metadata": {
    "ExecuteTime": {
     "end_time": "2020-11-04T12:37:52.324603Z",
     "start_time": "2020-11-04T12:37:52.286841Z"
    }
   },
   "source": [
    "**Aim**: The aim of this project is to build a corpus from articles published to the Dutch NOS news website and to classify these in a multilabel classification fashion. <br>\n",
    "\n",
    "Step 1: Corpus Extraction<br>\n",
    "Step 2: Processing<br>\n",
    "Step 3: Data modelling (model tuning)<br>\n",
    "Step 4: Analaysis"
   ]
  },
  {
   "cell_type": "code",
   "execution_count": 2,
   "metadata": {
    "ExecuteTime": {
     "end_time": "2020-11-09T13:02:26.704626Z",
     "start_time": "2020-11-09T13:02:24.236096Z"
    }
   },
   "outputs": [],
   "source": [
    "from os import listdir\n",
    "import numpy as np\n",
    "import matplotlib.pyplot as plt\n",
    "\n",
    "import urllib3\n",
    "from bs4 import BeautifulSoup\n",
    "from nltk.tokenize import RegexpTokenizer\n",
    "\n",
    "from sklearn.multiclass import OneVsRestClassifier\n",
    "from sklearn.linear_model import LogisticRegression\n",
    "from sklearn.tree import DecisionTreeClassifier\n",
    "\n",
    "from sklearn.model_selection import train_test_split\n",
    "from sklearn.model_selection import StratifiedKFold\n",
    "\n",
    "from sklearn.metrics import multilabel_confusion_matrix\n",
    "from sklearn.metrics import precision_score\n",
    "from sklearn.metrics import recall_score\n",
    "from sklearn.metrics import f1_score\n",
    "\n",
    "from scipy.stats import pearsonr\n",
    "\n",
    "from datetime import datetime\n",
    "from itertools import product, combinations_with_replacement, permutations, combinations\n",
    "\n",
    "import warnings\n",
    "warnings.filterwarnings('ignore')"
   ]
  },
  {
   "cell_type": "markdown",
   "metadata": {},
   "source": [
    "To extract the text from the NOS website I use `urlib3` to request the html document and `bs4` to parse the file. I define a function soupify that takes in a url and returns a parsible version of the html document."
   ]
  },
  {
   "cell_type": "code",
   "execution_count": 2,
   "metadata": {
    "ExecuteTime": {
     "end_time": "2020-11-08T22:13:53.483558Z",
     "start_time": "2020-11-08T22:13:53.468003Z"
    }
   },
   "outputs": [],
   "source": [
    "def soupify(url):\n",
    "    \"\"\"Convert a html file via url into bs4 soup with urlib3 and bs4.\"\"\"\n",
    "    http = urllib3.PoolManager()\n",
    "    r = http.request('GET', url)\n",
    "    html_doc = r.data\n",
    "    soup = BeautifulSoup(html_doc, 'html.parser')\n",
    "    return soup"
   ]
  },
  {
   "cell_type": "markdown",
   "metadata": {},
   "source": [
    "The text in the html file are seperated into seperate chunks. I define a function called `extract()` that extracts relevant information from the passed document. Using `find_all()` it collects all of the passages together by their html tag and  class. It joins them with a space and saves them as the text variable.<br>\n",
    "\n",
    "<img src=\"NOS_example_2.png\" alt=\"Drawing\" style=\"width: 450px;\"/><br>\n",
    "\n",
    "I use the same method to identify the title, the cateogries and the date of publication. I clean the titles by removing symbols that are invalid for file names. If `save_file` is true and text chunks were found, then the text and cateogries are saved as a numpy array using the date and title as the file name."
   ]
  },
  {
   "cell_type": "code",
   "execution_count": 3,
   "metadata": {
    "ExecuteTime": {
     "end_time": "2020-11-08T22:13:53.505731Z",
     "start_time": "2020-11-08T22:13:53.483558Z"
    }
   },
   "outputs": [],
   "source": [
    "def extract(soup, save_file=False, verbose=False):\n",
    "    \"\"\"Extract the text, title, date and categories of the article. Optionally save\n",
    "    the file.\"\"\"\n",
    "    \n",
    "    passages = soup.find_all(\"p\",\"text_3v_J6Y0G\")\n",
    "    text = \" \".join([passage.text for passage in passages])\n",
    "    text = text.replace('\"','').replace(\"'\",\"\")\n",
    "    \n",
    "    date = soup.find_all(\"time\")[-1]['datetime']\n",
    "    categories = [x.text for x in soup.find_all(\"a\", class_=\"link_2imnEnEf\")]\n",
    "    \n",
    "    title = soup.find(\"h1\",\"title_iP7Q1aiP\").text\n",
    "    for x in [\".\",\",\",\":\",\"/\",\"•\",\"'\",'\"',\"?\",\"*\"]:\n",
    "        title = title.replace(x,\"\")\n",
    "    title = title.strip()\n",
    "\n",
    "    if save_file:\n",
    "        if len(passages) != 0:\n",
    "            arr = np.array([text, categories])\n",
    "            np.save(f\"articles\\\\{date[:10]}_{title}\", arr)\n",
    "            if verbose: print(f\"Saved file under 'articles\\\\{date[:10]}_{title}.txt'\")\n",
    "    \n",
    "    return text"
   ]
  },
  {
   "cell_type": "markdown",
   "metadata": {
    "ExecuteTime": {
     "end_time": "2020-11-04T13:12:21.973296Z",
     "start_time": "2020-11-04T13:12:21.953226Z"
    }
   },
   "source": [
    "I define a function `processing()` that tokenizes a given text and builds a dictionary with word counts. It returns information about the processed text such as word and sentence count, unique word count and the actual dictionary."
   ]
  },
  {
   "cell_type": "code",
   "execution_count": 4,
   "metadata": {
    "ExecuteTime": {
     "end_time": "2020-11-08T22:13:53.521315Z",
     "start_time": "2020-11-08T22:13:53.505731Z"
    }
   },
   "outputs": [],
   "source": [
    "def processing(text:str, verbose=False):\n",
    "    \"\"\"Tokenize a given string and create a dictionary. Return stats such as\n",
    "    number of words, size of the dictionary, number of sentences. Also return\n",
    "    the dictionary.\"\"\"\n",
    "    \n",
    "    ## Tokenizing the text\n",
    "    tokenizer = RegexpTokenizer(r'\\w+')\n",
    "    words = tokenizer.tokenize(text.lower())\n",
    "    if verbose: print(f\"Number of words: {len(words)}\")\n",
    "\n",
    "    ## Creating a dictionary of the token occurrences\n",
    "    dictionary = {}\n",
    "    for word in words:\n",
    "        if word in dictionary:\n",
    "            dictionary[word] += 1\n",
    "        else:\n",
    "            dictionary[word] = 1\n",
    "    if verbose: print(f\"Length of Dictionary: {len(dictionary)}\")\n",
    "\n",
    "    ## Creating a list of sentences\n",
    "    sentences = text.split(\". \")\n",
    "    if verbose: print(f\"Number of sentences: {len(sentences)}\")\n",
    "    \n",
    "    return len(words), len(dictionary), len(sentences), dictionary"
   ]
  },
  {
   "cell_type": "markdown",
   "metadata": {},
   "source": [
    "I define the function `scrape()` to scrape the different cateogies of news pages on the NOS website as provided by a list of cateogories. The spelling of the categories depends on whether it is taken from the url or from the article, thus the two differeing variables `link_categories` and `cateogires` found later on.<br>\n",
    "<br>\n",
    "Using `find_all()`, all of the articles are identified.<br>\n",
    "<img src=\"NOS_example_3.png\" alt=\"Drawing\" style=\"width: 610px;\"/><br>\n",
    "\n",
    "Liveblog aritcles do not adhere to the regular article formatting and are thus removed.<br>\n",
    "<img src=\"NOS_example_1.png\" alt=\"Drawing\" style=\"width: 600px;\"/><br>\n",
    "<br>\n",
    "The function prints out a progress bar for each cateogry.  "
   ]
  },
  {
   "cell_type": "code",
   "execution_count": 5,
   "metadata": {
    "ExecuteTime": {
     "end_time": "2020-11-08T22:15:16.418354Z",
     "start_time": "2020-11-08T22:13:53.521315Z"
    }
   },
   "outputs": [
    {
     "name": "stdout",
     "output_type": "stream",
     "text": [
      "      binnenland |======================|\n",
      "      buitenland |======================|\n",
      "           regio |=========================|\n",
      "        politiek |=========================|\n",
      "        economie |=========================|\n",
      "     koningshuis |===================|\n",
      "            tech |=========================|\n",
      "cultuur-en-media |=========================|\n",
      "     opmerkelijk |===========|\n"
     ]
    }
   ],
   "source": [
    "def scrape(link_categories):\n",
    "    \"\"\"Text\"\"\"\n",
    "    \n",
    "    for category in link_categories:\n",
    "        ## Parse each category page\n",
    "        soup = soupify(f\"https://nos.nl/nieuws/{category}/\")\n",
    "        \n",
    "        ## Find all of the articles and remove all liveblogs\n",
    "        article_blocks = soup.find_all(\"a\", class_=\"link-block list-items__link\")\n",
    "        article_links = [f\"https://nos.nl{article['href']}\" for article in article_blocks if \"liveblog\" not in article['href']]\n",
    "        \n",
    "        print(f\"{category:>16} |\",end=\"\")\n",
    "        for link in article_links:\n",
    "            soup = soupify(link)\n",
    "            _ = extract(soup, save_file=True)\n",
    "            print(\"=\",end=\"\")\n",
    "        print(\"|\")\n",
    "    return None\n",
    "\n",
    "link_categories = [\"binnenland\",\"buitenland\",\"regio\",\"politiek\",\"economie\",\"koningshuis\",\n",
    "              \"tech\",\"cultuur-en-media\",\"opmerkelijk\"]\n",
    "scrape(link_categories)"
   ]
  },
  {
   "cell_type": "code",
   "execution_count": 4,
   "metadata": {
    "ExecuteTime": {
     "end_time": "2020-11-09T13:02:43.721940Z",
     "start_time": "2020-11-09T13:02:43.684434Z"
    }
   },
   "outputs": [
    {
     "name": "stdout",
     "output_type": "stream",
     "text": [
      "Total articles: 922\n",
      "\n"
     ]
    }
   ],
   "source": [
    "path = \".\\\\articles\"\n",
    "articles = listdir(path)\n",
    "articles.remove(\".ipynb_checkpoints\")\n",
    "\n",
    "print(f\"Total articles: {len(articles)}\",end=\"\\n\\n\")"
   ]
  },
  {
   "cell_type": "markdown",
   "metadata": {},
   "source": [
    "Now that the corpus has been created, the dictionaries and labels of each article are made. Also some statistics can be extracted."
   ]
  },
  {
   "cell_type": "code",
   "execution_count": 7,
   "metadata": {
    "ExecuteTime": {
     "end_time": "2020-11-08T22:15:17.158208Z",
     "start_time": "2020-11-08T22:15:16.438196Z"
    }
   },
   "outputs": [
    {
     "name": "stdout",
     "output_type": "stream",
     "text": [
      "                            Avg (Standard Deviation)\n",
      "Words per article:        364.2 (216.5)\n",
      "Unique words per article: 190.3 ( 85.6)\n",
      "Sentences per article:     23.0 ( 13.5)\n"
     ]
    }
   ],
   "source": [
    "article_stats = []\n",
    "dictionaries = []\n",
    "raw_labels = []\n",
    "\n",
    "for article in articles:\n",
    "    contents = np.load(f\"{path}\\\\{article}\", allow_pickle=True)\n",
    "    text = contents[0]\n",
    "    w,d,s,dictionary = processing(text)\n",
    "    article_stats.append([w,d,s])\n",
    "    dictionaries.append(dictionary)\n",
    "    raw_labels.append(contents[1])\n",
    "\n",
    "article_stats = np.asarray(article_stats)\n",
    "mean_stats = np.mean(article_stats, axis=0)\n",
    "std_stats = np.std(article_stats, axis=0)\n",
    "print(\" \"*28+\"Avg (Standard Deviation)\")\n",
    "print(f\"Words per article:        {mean_stats[0]:>5.1f} ({std_stats[0]:>5.1f})\")\n",
    "print(f\"Unique words per article: {mean_stats[1]:>5.1f} ({std_stats[1]:>5.1f})\")\n",
    "print(f\"Sentences per article:    {mean_stats[2]:>5.1f} ({std_stats[2]:>5.1f})\")"
   ]
  },
  {
   "cell_type": "markdown",
   "metadata": {},
   "source": [
    "The statistics can also be visualized. Below, the relationship between the total number of words to the ratio of unique words to total number of words is shown. As the articles become longer more words are repeated and the ratio of unique words to total words drops.<br>\n",
    "<br>\n",
    "News articles have an incentive to remain short. Any additional length needs to be justified with more in depth content. This results in more unique words being introduced and the aformentioned ratio levels off as the articles become longer.<br>\n",
    "<br>\n",
    "A crude approximation of the trend is overlaid in a dashed black line."
   ]
  },
  {
   "cell_type": "code",
   "execution_count": 8,
   "metadata": {
    "ExecuteTime": {
     "end_time": "2020-11-08T22:15:17.518440Z",
     "start_time": "2020-11-08T22:15:17.168053Z"
    }
   },
   "outputs": [
    {
     "data": {
      "image/png": "[encoded data removed]",
      "text/plain": [
       "<Figure size 360x360 with 1 Axes>"
      ]
     },
     "metadata": {
      "needs_background": "light"
     },
     "output_type": "display_data"
    }
   ],
   "source": [
    "plt.figure(figsize=(5,5))\n",
    "plt.scatter(article_stats[:,0],\n",
    "            article_stats[:,1]/article_stats[:,0],\n",
    "            alpha=0.25)\n",
    "x = np.arange(1,3000)\n",
    "plt.plot(x, 100/(x+150)+0.34, color=\"black\",linestyle=\"dashed\")\n",
    "plt.xlabel(\"Words\")\n",
    "plt.ylabel(\"Unique Word / Word\")\n",
    "plt.xlim(-100,3000)\n",
    "plt.ylim(0,1.02)\n",
    "\n",
    "plt.savefig(\"unique_words_ratio_to_words.png\",bbox_inches=\"tight\")\n",
    "plt.show()"
   ]
  },
  {
   "cell_type": "markdown",
   "metadata": {},
   "source": [
    "## TF-IDF"
   ]
  },
  {
   "cell_type": "markdown",
   "metadata": {},
   "source": [
    "In order to classify the documents, the *term frquency - inverse document frequency* scores are calculated. The inverse document frequency is adapted to be smoothed.<br>\n",
    "<br>\n",
    "**Train-Test Split**<br>\n",
    "The data set must be divided prior to the creation of the TF-IDF matrix as the inverse document frequency can encode information from the test set into the training set. The data is split into train (4/5) and test sets (1/5).<br>"
   ]
  },
  {
   "cell_type": "code",
   "execution_count": 9,
   "metadata": {
    "ExecuteTime": {
     "end_time": "2020-11-08T22:15:17.538082Z",
     "start_time": "2020-11-08T22:15:17.518440Z"
    }
   },
   "outputs": [
    {
     "name": "stdout",
     "output_type": "stream",
     "text": [
      "Train set | 738\n",
      " Test set | 184\n"
     ]
    }
   ],
   "source": [
    "test_idx = round(len(dictionaries)*4/5)\n",
    "\n",
    "train_dictionaries = dictionaries[:test_idx]\n",
    "test_dictionaries = dictionaries[test_idx:]\n",
    "\n",
    "print(f\"Train set | {len(train_dictionaries)}\")\n",
    "print(f\" Test set | {len(test_dictionaries)}\")"
   ]
  },
  {
   "cell_type": "markdown",
   "metadata": {},
   "source": [
    "**Term Frequency**<br>\n",
    "The `train_word_frequencies` matrix is populated by first creating a `train_word_counts` matrix and dividing it by the word count vector of the documents. In order to create the `train_word_counts` matrix, the unique words in the training set need to be assigned to columns. The `train_unique_words` string vector corresponds via index with the \n",
    "columns of the `train_word_frequencies` matrix. This same vector also corresponds to the columns of the `test_word_frequencies` matrix as the words in the test set are not known. The `train_word_counts` matrix is populated via looping through all the training document dictionaries and adding the word counts. The same is done for the `test_word_counts` matrix. It is important to notice that words in the test set that are not known from the training set thus don't contribute to the document word count in the denominator.\n",
    "<br>\n",
    "<center>$\\displaystyle tf(t,d)=\\frac{f_{t,d}}{\\sum\\limits _{t'\\in d} f_{t',d}}$</center><br>\n",
    "\n",
    "**Inverse Document Freuqency**<br>\n",
    "The IDF part of TF-IDF needs to be adjusted due to the train-test split. There are words in the test set which do not appear in the vocabulary (dictionaries) of the training set. This can result in a division by zero error in $\\frac{N}{n_{t}}$. To avoid this, the IDF is smoothed with a +1 in the denominator and a +1 overal.<br>\n",
    "<br>\n",
    "<center>$\\displaystyle idf(t,D)=\\log\\bigg(\\frac{N}{1+n_{t}}\\bigg)+1$</center><br>"
   ]
  },
  {
   "cell_type": "code",
   "execution_count": 10,
   "metadata": {
    "ExecuteTime": {
     "end_time": "2020-11-08T22:15:32.478113Z",
     "start_time": "2020-11-08T22:15:17.538082Z"
    }
   },
   "outputs": [
    {
     "name": "stdout",
     "output_type": "stream",
     "text": [
      "(738, 21207)\n",
      "(184, 21207)\n"
     ]
    }
   ],
   "source": [
    "D = len(train_dictionaries)\n",
    "\n",
    "train_word_counts = {}\n",
    "for dictionary in train_dictionaries:\n",
    "    for word in dictionary.keys():\n",
    "        if word in train_word_counts:\n",
    "            train_word_counts[word] += dictionary[word]\n",
    "        else:\n",
    "            train_word_counts[word] = dictionary[word]\n",
    "\n",
    "train_unique_words = np.sort(np.asarray(list(train_word_counts.keys())))\n",
    "N = len(train_unique_words)\n",
    "\n",
    "## Word frequencies   \n",
    "train_word_frequencies = np.zeros((D,N))\n",
    "\n",
    "for i, dictionary in enumerate(train_dictionaries):\n",
    "    for j, word in enumerate(train_unique_words):\n",
    "        if word in dictionary.keys():\n",
    "            train_word_frequencies[i,j] += dictionary[word]\n",
    "\n",
    "# ## Stope words  \n",
    "stop_word_idx = np.sum(train_word_frequencies>1,axis=0)>round(D*0.15)\n",
    "stop_words = train_unique_words[stop_word_idx]\n",
    "\n",
    "# ## Remove stop words from word frequencies\n",
    "train_word_frequencies = np.delete(train_word_frequencies, np.where(stop_word_idx), 1)\n",
    "train_unique_words = np.delete(train_unique_words, np.where(stop_word_idx), 0)\n",
    "N = len(train_unique_words)\n",
    "\n",
    "# ## Word importance\n",
    "tf = train_word_frequencies.T/np.sum(train_word_frequencies, axis=1)\n",
    "idfs = np.log(train_word_frequencies.shape[0]/(np.sum(train_word_frequencies>0, axis=0)+1))+1\n",
    "idfs = np.tile(idfs, D).reshape(tf.shape)\n",
    "train_word_importance = (tf * idfs).T\n",
    "print(train_word_importance.shape)\n",
    "\n",
    "\n",
    "test_word_counts = {}\n",
    "for dictionary in test_dictionaries:\n",
    "    for word in dictionary.keys():\n",
    "        if word in test_word_counts:\n",
    "            test_word_counts[word] += dictionary[word]\n",
    "        else:\n",
    "            test_word_counts[word] = dictionary[word]\n",
    "\n",
    "test_word_frequencies = np.zeros((len(test_dictionaries),N))\n",
    "\n",
    "for i, dictionary in enumerate(test_dictionaries):\n",
    "    n_words = sum(list(dictionary.values()))\n",
    "    for j, word in enumerate(train_unique_words):\n",
    "        if word in dictionary.keys():\n",
    "            test_word_frequencies[i,j] += dictionary[word]\n",
    "\n",
    "tf = test_word_frequencies.T/np.sum(test_word_frequencies, axis=1)\n",
    "idfs = np.log(test_word_frequencies.shape[0]/(np.sum(test_word_frequencies>0, axis=0)+1))+1\n",
    "idfs = np.tile(idfs,len(test_dictionaries)).reshape(tf.shape)\n",
    "test_word_importance = (tf * idfs).T\n",
    "print(test_word_importance.shape)"
   ]
  },
  {
   "cell_type": "markdown",
   "metadata": {},
   "source": [
    "The data has been converted into TF-IDF format. The labels also need to be reformatted. Due to the multilabel nature of the labels, the one hot encoding is a good approach to have a standardized label for every instanz."
   ]
  },
  {
   "cell_type": "code",
   "execution_count": 11,
   "metadata": {
    "ExecuteTime": {
     "end_time": "2020-11-08T22:15:32.518440Z",
     "start_time": "2020-11-08T22:15:32.478113Z"
    }
   },
   "outputs": [],
   "source": [
    "categories = np.array([\"Binnenland\",\"Buitenland\",\"Regionaal nieuws\",\"Politiek\",\"Economie\",\"Koningshuis\",\n",
    "                       \"Tech\",\"Cultuur & Media\",\"Opmerkelijk\"])\n",
    "\n",
    "def one_hot_encoder(labels, categories):\n",
    "    one_hot_labels = []\n",
    "    for label_list in labels:\n",
    "        label_vector = np.zeros(len(categories)).astype(int)\n",
    "        for label in label_list:\n",
    "            label_vector += (label == categories).astype(int)\n",
    "        one_hot_labels.append(label_vector)\n",
    "\n",
    "    return np.asarray(one_hot_labels)\n",
    "\n",
    "one_hot_labels = one_hot_encoder(raw_labels, categories)\n",
    "y = one_hot_labels[:test_idx]"
   ]
  },
  {
   "cell_type": "markdown",
   "metadata": {},
   "source": [
    "**Stop Words** <br>\n",
    "An index of stop words is created by counting the binarized occurances of each word and idenfying those which are present in a given percentage of documents. For the purpose of this project the threshold is set to 0.15. The value was found through trial and error. The index of stop words is used to remove the corresponding columns in the `train_word_frequencies` matrix above. The stop words are also removed from the list of `train_unique_words`. The stop words are printed below."
   ]
  },
  {
   "cell_type": "code",
   "execution_count": 12,
   "metadata": {
    "ExecuteTime": {
     "end_time": "2020-11-08T22:15:32.538033Z",
     "start_time": "2020-11-08T22:15:32.518440Z"
    }
   },
   "outputs": [
    {
     "name": "stdout",
     "output_type": "stream",
     "text": [
      "['aan' 'al' 'als' 'bij' 'dan' 'dat' 'de' 'deze' 'die' 'dit' 'door' 'een'\n",
      " 'en' 'er' 'gaan' 'gaat' 'geen' 'hebben' 'heeft' 'het' 'hij' 'hun' 'ik'\n",
      " 'in' 'is' 'jaar' 'je' 'kan' 'kunnen' 'maar' 'meer' 'mensen' 'met' 'naar'\n",
      " 'niet' 'nog' 'nu' 'of' 'om' 'ook' 'op' 'over' 'te' 'tot' 'uit' 'van'\n",
      " 'veel' 'volgens' 'voor' 'was' 'we' 'wel' 'werd' 'worden' 'wordt' 'ze'\n",
      " 'zegt' 'zich' 'zijn']\n"
     ]
    }
   ],
   "source": [
    "print(stop_words)"
   ]
  },
  {
   "cell_type": "markdown",
   "metadata": {},
   "source": [
    "Some examples of articles and their most important/distinguishing word are printed out below."
   ]
  },
  {
   "cell_type": "code",
   "execution_count": 13,
   "metadata": {
    "ExecuteTime": {
     "end_time": "2020-11-08T22:15:32.858344Z",
     "start_time": "2020-11-08T22:15:32.538033Z"
    }
   },
   "outputs": [
    {
     "name": "stdout",
     "output_type": "stream",
     "text": [
      "\n",
      "Title : Ballroom en breakdance; winnaars Community top 100 tonen iedereen wie ze zijn\n",
      "Word  : eerste\n",
      "\n",
      "Title : Twitter scherpt beleid tegen nepnieuws verkiezingen aan\n",
      "Word  : berichten\n",
      "\n",
      "Title : Trump stemt alvast op een man die Trump heet\n",
      "Word  : trump\n",
      "\n",
      "Title : Lange Frans komt terug op uitspraken over aanslag op Rutte Wellicht ongelukkig\n",
      "Word  : frans\n",
      "\n",
      "Title : Lange Frans over uitspraken over aanslag op Rutte Wellicht ongelukkig\n",
      "Word  : lange\n"
     ]
    }
   ],
   "source": [
    "for i, index in enumerate(np.argmax(train_word_importance, axis=1)):\n",
    "    print()\n",
    "    print(f\"Title : {articles[i][11:][:-4]}\")\n",
    "    print(f\"Word  : {train_unique_words[index]}\")\n",
    "    if i > 3:\n",
    "        break"
   ]
  },
  {
   "cell_type": "markdown",
   "metadata": {},
   "source": [
    "It is also interesting to see what the most important words per category are. Below the top 5 words are printed out per cateogry. Due to the overlapping nature of the labels some words appear in multiple cateogries as very important."
   ]
  },
  {
   "cell_type": "code",
   "execution_count": 14,
   "metadata": {
    "ExecuteTime": {
     "end_time": "2020-11-08T22:15:33.268158Z",
     "start_time": "2020-11-08T22:15:32.858344Z"
    }
   },
   "outputs": [
    {
     "name": "stdout",
     "output_type": "stream",
     "text": [
      "Binnenland\n",
      "['politie' 'nieuwe' 'week' 'twee' 'aantal']\n",
      "\n",
      "Buitenland\n",
      "['tegen' 'trump' 'president' 'onder' 'politie']\n",
      "\n",
      "Regionaal nieuws\n",
      "['politie' 'man' 'omroep' 'tegen' 'twee']\n",
      "\n",
      "Politiek\n",
      "['kabinet' 'minister' 'rutte' 'kamer' 'tweede']\n",
      "\n",
      "Economie\n",
      "['bedrijf' 'euro' 'procent' 'moeten' 'nederland']\n",
      "\n",
      "Koningshuis\n",
      "['koning' 'vakantie' 'haar' 'delphine' 'alexander']\n",
      "\n",
      "Tech\n",
      "['app' 'bedrijf' 'onder' 'facebook' 'bedrijven']\n",
      "\n",
      "Cultuur & Media\n",
      "['jaren' 'programma' 'hem' 'prijs' 'beste']\n",
      "\n",
      "Opmerkelijk\n",
      "['hem' 'politie' 'toen' 'zou' 'wilson']\n",
      "\n"
     ]
    }
   ],
   "source": [
    "for i in range(9):\n",
    "    values = np.mean(train_word_importance[y[:,i]==1], axis=0)\n",
    "    print(categories[i])\n",
    "    print(train_unique_words[np.argsort(values)[-5:]][::-1],end=\"\\n\\n\")"
   ]
  },
  {
   "cell_type": "markdown",
   "metadata": {},
   "source": [
    "Some graphs showing the label distributions are visualized below. The stacked bar chart on the left shows the number of documents with a particular label. The bars are split by how many labels the particular document has. This means that documents with multiple labels will be counted multiple times in this visualization. For example, a document with the labels *Binnenland* and *Economie* will be counted in both categories in the 2 label stacked bar (orange).<br>\n",
    "<br>\n",
    "The graph in the center is the percentage version of the graph on the left. This gives a better intuition for the proportions of the number of labels by cateogry. For instance, documents with the label *Regionaal Nieuws* tend to have this as their only label. On the other hand, the *Konigshuis* label tends to be accompanied with a second or third label.\n",
    "<br>\n",
    "<br>\n",
    "As the first two graphs overcount the multilabel documents, the third graph on the right shows the distribution of the number of labels per document. The majority of documents have a single label."
   ]
  },
  {
   "cell_type": "code",
   "execution_count": 15,
   "metadata": {
    "ExecuteTime": {
     "end_time": "2020-11-08T22:15:33.968241Z",
     "start_time": "2020-11-08T22:15:33.268158Z"
    }
   },
   "outputs": [
    {
     "data": {
      "image/png": "[encoded data removed]",
      "text/plain": [
       "<Figure size 1152x324 with 3 Axes>"
      ]
     },
     "metadata": {
      "needs_background": "light"
     },
     "output_type": "display_data"
    }
   ],
   "source": [
    "plt.figure(figsize=(16,4.5))\n",
    "n_labels = np.sum(y, axis=1)\n",
    "\n",
    "shared_labels = []\n",
    "for i in range(9):\n",
    "    counts = list(np.unique(n_labels[y[:,i]==1], return_counts=True)[1])\n",
    "    counts.extend([0]*(9-len(counts)))\n",
    "    shared_labels.append(counts)\n",
    "shared_labels = np.asarray(shared_labels)\n",
    "\n",
    "for i in range(4):\n",
    "    plt.subplot(1,3,1).bar(categories, \n",
    "                           shared_labels[:,i], \n",
    "                           bottom=np.sum(shared_labels[:,:i], axis=1), \n",
    "                           label=f\"{i+1} labels\")\n",
    "plt.legend(loc=\"best\")\n",
    "plt.ylim(0,300)\n",
    "plt.xlabel(\"Categories\")\n",
    "plt.xticks(rotation=90)\n",
    "plt.ylabel(\"Frequency\")\n",
    "\n",
    "for i in range(4):\n",
    "    plt.subplot(1,3,2).bar(categories, \n",
    "                           shared_labels[:,i]/np.sum(shared_labels,axis=1), \n",
    "                           bottom=np.sum(shared_labels[:,:i], axis=1)/np.sum(shared_labels,axis=1), \n",
    "                           label=f\"{i+1} labels\")\n",
    "plt.legend(loc=\"best\")\n",
    "plt.ylim(0,1.02)\n",
    "plt.xlabel(\"Categories\")\n",
    "plt.xticks(rotation=90)\n",
    "plt.ylabel(\"Proportion\")\n",
    "\n",
    "labels, count = np.unique(np.sum(y, axis=1), return_counts=True)\n",
    "plt.subplot(1,3,3).bar(labels.astype(str), count)\n",
    "plt.xlabel(\"Number of labels per document\")\n",
    "plt.ylabel(\"Frequency\")\n",
    "plt.ylim(0,600)\n",
    "plt.show()"
   ]
  },
  {
   "cell_type": "markdown",
   "metadata": {},
   "source": [
    "## Modelling"
   ]
  },
  {
   "cell_type": "markdown",
   "metadata": {},
   "source": [
    "The train test split has been already been carried out above. The data is now attributed to common practice variable names and the validation set is further split from training set for initial testing."
   ]
  },
  {
   "cell_type": "code",
   "execution_count": 16,
   "metadata": {
    "ExecuteTime": {
     "end_time": "2020-11-08T22:15:34.268471Z",
     "start_time": "2020-11-08T22:15:33.968241Z"
    }
   },
   "outputs": [
    {
     "name": "stdout",
     "output_type": "stream",
     "text": [
      "     Train size | (553, 21207)\n",
      "Validation size | (185, 21207)\n",
      "      Test size | (184, 21207)\n"
     ]
    }
   ],
   "source": [
    "X = train_word_importance\n",
    "y = one_hot_labels[:test_idx]\n",
    "\n",
    "X_test = test_word_importance\n",
    "y_test = one_hot_labels[test_idx:]\n",
    "\n",
    "X_train, X_val, y_train, y_val = train_test_split(X, y, test_size=0.25, random_state=42)\n",
    "\n",
    "print(f\"     Train size | {X_train.shape}\")\n",
    "print(f\"Validation size | {X_val.shape}\")\n",
    "print(f\"      Test size | {X_test.shape}\")"
   ]
  },
  {
   "cell_type": "markdown",
   "metadata": {},
   "source": [
    "The algorithm used for classification is the `LogisitcRegression` classifier. As it is a binary classifier it is augmented using the `OneVsRestClassifier` provided by sklearn. This method creates a classifier per class and fits them on one class label each. As there are nine labels, which are also imbalanced, this method is prefered to the `OneVsOneClassifier`, which creates a classifier per unique class pair."
   ]
  },
  {
   "cell_type": "code",
   "execution_count": 17,
   "metadata": {
    "ExecuteTime": {
     "end_time": "2020-11-08T22:15:42.168454Z",
     "start_time": "2020-11-08T22:15:34.268471Z"
    }
   },
   "outputs": [
    {
     "name": "stdout",
     "output_type": "stream",
     "text": [
      "Precision | 0.57\n",
      "   Recall | 0.21\n",
      " F1 score | 0.29\n"
     ]
    }
   ],
   "source": [
    "model = OneVsRestClassifier(LogisticRegression(penalty=\"l2\", C=10, max_iter=10000))\n",
    "model = model.fit(X_train, y_train)\n",
    "val_pred = model.predict(X_val)\n",
    "\n",
    "print(f\"Precision | {precision_score(y_val, val_pred, average='macro'):.2f}\")\n",
    "print(f\"   Recall | {recall_score(y_val, val_pred, average='macro'):.2f}\")\n",
    "print(f\" F1 score | {f1_score(y_val, val_pred, average='macro'):.2f}\")"
   ]
  },
  {
   "cell_type": "markdown",
   "metadata": {},
   "source": [
    "## Hyperparameter tuning"
   ]
  },
  {
   "cell_type": "markdown",
   "metadata": {},
   "source": [
    "The initial results can be improved by hyperparameter tuning. The hyperparameter C of the `LogisticRegression` classifier is the inverse regularization strength and is tested in the range from 1 to 42 with a step size of 1."
   ]
  },
  {
   "cell_type": "code",
   "execution_count": 18,
   "metadata": {
    "ExecuteTime": {
     "end_time": "2020-11-08T22:21:33.415985Z",
     "start_time": "2020-11-08T22:15:42.168454Z"
    }
   },
   "outputs": [
    {
     "data": {
      "image/png": "[encoded data removed]",
      "text/plain": [
       "<Figure size 360x360 with 1 Axes>"
      ]
     },
     "metadata": {
      "needs_background": "light"
     },
     "output_type": "display_data"
    },
    {
     "name": "stdout",
     "output_type": "stream",
     "text": [
      "Highest F1 score 0.42 (C = 41)\n"
     ]
    }
   ],
   "source": [
    "c_range = np.arange(1,42)\n",
    "precision_scores = []\n",
    "recall_scores = []\n",
    "f1_scores = []\n",
    "\n",
    "for i in c_range:\n",
    "    model = OneVsRestClassifier(LogisticRegression(penalty=\"l2\", C=i, max_iter=10000))\n",
    "    model = model.fit(X_train, y_train)\n",
    "    predictions = model.predict(X_val)\n",
    "    precision_scores.append(precision_score(y_val, predictions, average=\"macro\"))\n",
    "    recall_scores.append(recall_score(y_val, predictions, average=\"macro\"))\n",
    "    f1_scores.append(f1_score(y_val, predictions, average=\"macro\"))\n",
    "\n",
    "plt.figure(figsize=(5,5))\n",
    "plt.plot(c_range, precision_scores, label=\"Precision\")\n",
    "plt.plot(c_range, recall_scores, label=\"Recall\")\n",
    "plt.plot(c_range, f1_scores, label=\"F1\")\n",
    "plt.legend(loc=\"lower right\")\n",
    "plt.xlabel(\"Hyperparameter C (Inverse regularization strength)\")\n",
    "plt.ylabel(\"Metric score\")\n",
    "plt.ylim(-0.02, 1.02)\n",
    "plt.show()\n",
    "C = c_range[np.argmax(f1_scores)]\n",
    "print(f\"Highest F1 score {np.max(f1_scores):.2f} (C = {C})\")"
   ]
  },
  {
   "cell_type": "markdown",
   "metadata": {},
   "source": [
    "## Evaluation"
   ]
  },
  {
   "cell_type": "markdown",
   "metadata": {},
   "source": [
    "In order to properly evaluate the tuned model I wanted to perform stratified k-fold cross validation. In a multi-label context this is not easily possible. Due to the class imbalance, number of classes and small sample size, defining the stratifications in terms of each unique class combinations was infeasible. Instead, [Jessica Collins](https://stats.stackexchange.com/users/9568/jessica-collins) recommended on [Stack Overflow](https://stats.stackexchange.com/questions/65828/how-to-use-scikit-learns-cross-validation-functions-on-multi-label-classifiers/65840#65840) to attempt to maintain the distribution of the individual class labels over the k-folds regardless of the combinations. As the classifier was trained one vs rest, this method appeared a good fit. \n",
    "Jessica Collins provides code in her answer that creates indexes for stratified k-fold cross validation for multilabel data. I am using her code in the cell below with a slight alteration by adding a verbose parameter."
   ]
  },
  {
   "cell_type": "code",
   "execution_count": 19,
   "metadata": {
    "ExecuteTime": {
     "end_time": "2020-11-08T22:21:33.435824Z",
     "start_time": "2020-11-08T22:21:33.420992Z"
    }
   },
   "outputs": [],
   "source": [
    "def proba_mass_split(y, folds, verbose=False):\n",
    "    obs, classes = y.shape\n",
    "    dist = y.sum(axis=0).astype('float')\n",
    "    dist /= dist.sum()\n",
    "    index_list = []\n",
    "    fold_dist = np.zeros((folds, classes), dtype='float')\n",
    "    for _ in np.arange(folds):\n",
    "        index_list.append([])\n",
    "    for i in np.arange(obs):\n",
    "        if i < folds:\n",
    "            target_fold = i\n",
    "        else:\n",
    "            normed_folds = fold_dist.T / fold_dist.sum(axis=1)\n",
    "            how_off = normed_folds.T - dist\n",
    "            target_fold = np.argmin(np.dot((y[i] - .5).reshape(1, -1), how_off.T))\n",
    "        fold_dist[target_fold] += y[i]\n",
    "        index_list[target_fold].append(i)\n",
    "    if verbose:\n",
    "        print(\"Fold distributions are\")\n",
    "        print(fold_dist)\n",
    "    return index_list"
   ]
  },
  {
   "cell_type": "markdown",
   "metadata": {},
   "source": [
    "The tuned model is cross validated over 5 folds using the stratification method outlined above. The predictions are saved per fold and the metrics are calculated on the training set as a whole. The precision, recall, and f1 score are given per class label (category). Below the first dashed line are the validation results using  the macro averaged (ignoring class imbalance) method. The final row is the performance of the model on the test set when trained on the entire training set."
   ]
  },
  {
   "cell_type": "code",
   "execution_count": 20,
   "metadata": {
    "ExecuteTime": {
     "end_time": "2020-11-08T22:22:52.935970Z",
     "start_time": "2020-11-08T22:21:33.436839Z"
    }
   },
   "outputs": [
    {
     "name": "stdout",
     "output_type": "stream",
     "text": [
      "      Binnenland | 0.66 | 0.42 | 0.52 |\n",
      "      Buitenland | 0.88 | 0.68 | 0.77 |\n",
      "Regionaal nieuws | 0.83 | 0.43 | 0.57 |\n",
      "        Politiek | 0.92 | 0.55 | 0.69 |\n",
      "        Economie | 0.84 | 0.42 | 0.56 |\n",
      "     Koningshuis | 1.00 | 0.56 | 0.71 |\n",
      "            Tech | 1.00 | 0.24 | 0.39 |\n",
      " Cultuur & Media | 1.00 | 0.22 | 0.36 |\n",
      "     Opmerkelijk | 0.00 | 0.00 | 0.00 |\n",
      "---------------------------------------\n",
      "  Validation set | 0.79 | 0.39 | 0.51 |\n",
      "---------------------------------------\n",
      "        Test set | 0.64 | 0.35 | 0.45 |\n"
     ]
    }
   ],
   "source": [
    "predictions = []\n",
    "test_cases = []\n",
    "\n",
    "split_idx  = proba_mass_split(y, folds=5)\n",
    "\n",
    "for test_idx in split_idx:\n",
    "    train_idx = np.array([x for x in np.arange(y.shape[0]) if x not in test_idx])\n",
    "    \n",
    "    model = OneVsRestClassifier(LogisticRegression(penalty=\"l2\", C=C, max_iter=10000))\n",
    "    model = model.fit(X[train_idx], y[train_idx])\n",
    "    predictions.extend(model.predict(X[test_idx]))\n",
    "    test_cases.extend(y[test_idx])\n",
    "\n",
    "predictions = np.asarray(predictions)\n",
    "test_cases = np.asarray(test_cases)\n",
    "\n",
    "precision = precision_score(test_cases, predictions, average=None)\n",
    "recall = recall_score(test_cases, predictions, average=None)\n",
    "f1 = f1_score(test_cases, predictions, average=None)\n",
    "\n",
    "for i in range(9):\n",
    "    print(f\"{categories[i]:>16} | {precision[i]:5>.2f} | {recall[i]:5>.2f} | {f1[i]:5>.2f} |\")\n",
    "\n",
    "macro_precision = precision_score(test_cases, predictions, average=\"macro\") \n",
    "macro_recall = recall_score(test_cases, predictions, average=\"macro\") \n",
    "macro_f1 = f1_score(test_cases, predictions, average=\"macro\") \n",
    "print(\"-\"*39)\n",
    "print(f\"  Validation set | {macro_precision:5>.2f} | {macro_recall:5>.2f} | {macro_f1:5>.2f} |\")\n",
    "\n",
    "\n",
    "## Test set performance\n",
    "model = OneVsRestClassifier(LogisticRegression(penalty=\"l2\", C=C, max_iter=10000))\n",
    "model = model.fit(X, y)\n",
    "test_pred = model.predict(X_test)\n",
    "\n",
    "test_precision = precision_score(y_test, test_pred, average=\"macro\") \n",
    "test_recall = recall_score(y_test, test_pred, average=\"macro\") \n",
    "test_f1 = f1_score(y_test, test_pred, average=\"macro\")\n",
    "\n",
    "print(\"-\"*39)\n",
    "print(f\"        Test set | {test_precision:5>.2f} | {test_recall:5>.2f} | {test_f1:5>.2f} |\")"
   ]
  },
  {
   "cell_type": "markdown",
   "metadata": {},
   "source": [
    "The performance of the model vary depending on the category. Classifying *buitenland* news was easier than *binnenland* news even though similar numbers of samples were available. *Buitenland* was classified with the highest f1 score. The second highest f1 score was achieved for the *konigshuis* category, probably due to the very specific words used in these articles (e.g. konig, máxima, delphine, albert). Articles not labeled *konigshuis* are very unlikely to feature these words. The idea is that cateogries with more unique words (high TF-IDF scores) should be easier to classify."
   ]
  },
  {
   "cell_type": "code",
   "execution_count": 21,
   "metadata": {
    "ExecuteTime": {
     "end_time": "2020-11-08T22:22:54.851017Z",
     "start_time": "2020-11-08T22:22:52.935970Z"
    }
   },
   "outputs": [
    {
     "data": {
      "image/png": "[encoded data removed]",
      "text/plain": [
       "<Figure size 1152x288 with 3 Axes>"
      ]
     },
     "metadata": {
      "needs_background": "light"
     },
     "output_type": "display_data"
    }
   ],
   "source": [
    "n_mistakes = np.sum(np.abs(predictions-test_cases), axis=1)\n",
    "\n",
    "values = [np.mean(np.mean(np.sort(train_word_importance[np.where(n_mistakes==i)[0]], axis=0)[-5:,:],axis=0)) for i in range(9)]\n",
    "\n",
    "plt.figure(figsize=(16,4))\n",
    "plt.subplot(1,3,1).bar(np.arange(9).astype(str), values)\n",
    "plt.xlabel(\"Number of misclassified labels per document\")\n",
    "plt.ylabel(\"Mean TF-IDF score of top 5 words\")\n",
    "\n",
    "values = [np.mean(np.mean(np.sort(train_word_importance[np.where(n_labels==i)[0]], axis=0)[-5:,:],axis=0)) for i in range(1,10)]\n",
    "plt.subplot(1,3,2).bar(np.arange(1,10).astype(str), values)\n",
    "plt.xlabel(\"Number of labels per document\")\n",
    "plt.xticks(rotation=90)\n",
    "plt.ylabel(\"Mean TF-IDF score of top 5 words\")\n",
    "\n",
    "avg_f1s = [f1_score(test_cases[n_labels==i], predictions[n_labels==i], average=\"macro\") for i in range(1,5)]\n",
    "plt.subplot(1,3,3).bar(np.arange(1,5).astype(str), avg_f1s)\n",
    "plt.xlabel(\"Number of Labels\")\n",
    "plt.ylabel(\"F1 Score (Macro Average)\")\n",
    "\n",
    "plt.subplots_adjust(wspace=0.3)\n",
    "plt.show()"
   ]
  },
  {
   "cell_type": "markdown",
   "metadata": {},
   "source": [
    "Documents with low tf-idf scores should have more misclassifications. The graph on the left shows that as the number of label misclassifications increases the average TF-IDF score of the top 5 words decreases. The graph in the center shows that documents with more labels tend to have lower TF-IDF scores.The graph on the right shows that when considering documents with more than two labels, the F1 score is significantly lower."
   ]
  },
  {
   "cell_type": "markdown",
   "metadata": {},
   "source": [
    "## Sample Size\n",
    "\n",
    "The sample size of a data set has a large impact on the performance of algorithms. The more data is available the more an algorithm can learn in general. Larger sample sizes capture more edge cases and provide more evidence and thus more certainty for central relationships. The amount of data needed for good performance differs from case to case. The graph on the left explores how the performance of the logisitc regression classifier improves as the size of the train data set increases. The graph on the right shows how the vocabulary known to the algorithm increases as it is exposed to more documents."
   ]
  },
  {
   "cell_type": "code",
   "execution_count": 22,
   "metadata": {
    "ExecuteTime": {
     "end_time": "2020-11-08T22:22:54.936028Z",
     "start_time": "2020-11-08T22:22:54.851017Z"
    }
   },
   "outputs": [
    {
     "name": "stdout",
     "output_type": "stream",
     "text": [
      "Total word count of the corpus = 181277\n"
     ]
    }
   ],
   "source": [
    "corpus_size = np.sum(train_word_frequencies).astype(int)+np.sum(test_word_frequencies).astype(int)\n",
    "print(f\"Total word count of the corpus = {corpus_size}\")"
   ]
  },
  {
   "cell_type": "code",
   "execution_count": 23,
   "metadata": {
    "ExecuteTime": {
     "end_time": "2020-11-08T22:25:17.217631Z",
     "start_time": "2020-11-08T22:22:54.936028Z"
    }
   },
   "outputs": [],
   "source": [
    "n = X.shape[0]\n",
    "x_range = []\n",
    "vocab = []\n",
    "f1_values = []\n",
    "\n",
    "for i in range(0,n,50):\n",
    "    training_data = X[:i+50,:]\n",
    "    training_labels = y[:i+50,:]\n",
    "    vocab_size = np.sum(np.sum(training_data, axis=0)>0)\n",
    "    \n",
    "    model = OneVsRestClassifier(LogisticRegression(penalty=\"l2\", C=40, max_iter=10000))\n",
    "    model = model.fit(training_data, training_labels)\n",
    "    val_pred = model.predict(X_test)\n",
    "    \n",
    "    x_range.append(training_data.shape[0])\n",
    "    vocab.append(vocab_size)\n",
    "    f1_values.append(f1_score(y_test, val_pred, average='macro'))"
   ]
  },
  {
   "cell_type": "code",
   "execution_count": 24,
   "metadata": {
    "ExecuteTime": {
     "end_time": "2020-11-08T22:25:17.937762Z",
     "start_time": "2020-11-08T22:25:17.219657Z"
    }
   },
   "outputs": [
    {
     "data": {
      "image/png": "[encoded data removed]",
      "text/plain": [
       "<Figure size 792x360 with 2 Axes>"
      ]
     },
     "metadata": {
      "needs_background": "light"
     },
     "output_type": "display_data"
    }
   ],
   "source": [
    "plt.figure(figsize=(11,5))\n",
    "plt.subplot(1,2,1).plot(x_range, f1_values)\n",
    "plt.subplot(1,2,1).scatter(x_range, f1_values)\n",
    "plt.xlabel(\"Training data set size\")\n",
    "plt.ylabel(\"F1 score\")\n",
    "plt.ylim(-.01,1.01)\n",
    "\n",
    "plt.subplot(1,2,2).plot(x_range, vocab)\n",
    "plt.subplot(1,2,2).scatter(x_range, vocab)\n",
    "plt.xlabel(\"Training data set size\")\n",
    "plt.ylabel(\"Vocabulary size\")\n",
    "\n",
    "plt.subplots_adjust(wspace=0.3)\n",
    "plt.show()"
   ]
  },
  {
   "cell_type": "markdown",
   "metadata": {},
   "source": [
    "# Zipfian Distribution"
   ]
  },
  {
   "cell_type": "markdown",
   "metadata": {},
   "source": [
    "When learning about Natural Language Processing one inevitably comes accross Zipf's Law, which states, acording to wikipedia, that *the frequency of any word is inversely proportional to its rank in the frequency table*. In essence this means that the most common words make up most words of a language. More specifically the first word will be twice as common as the second most common word and three times as common as the third most common word and so on. <br>\n",
    "<br>\n",
    "<center>$\\displaystyle f(k;s,N)=\\frac{\\frac{1}{k^{s}}}{\\sum\\limits _{n=1} ^{N}\\Big(\\frac{1}{n^{s}}\\Big)}$</center><br>"
   ]
  },
  {
   "cell_type": "code",
   "execution_count": 25,
   "metadata": {
    "ExecuteTime": {
     "end_time": "2020-11-08T22:25:17.967116Z",
     "start_time": "2020-11-08T22:25:17.937762Z"
    }
   },
   "outputs": [],
   "source": [
    "def zipfian(k,s=1):\n",
    "    numerator = 1/(k**s)\n",
    "    harmonic_number = np.sum(1/(k**s))\n",
    "    return numerator/harmonic_number"
   ]
  },
  {
   "cell_type": "markdown",
   "metadata": {},
   "source": [
    "It was of course of interest to see whether my self made corpus followed this distribution. The graph below shows that it follows the theoretical distribution farily closely."
   ]
  },
  {
   "cell_type": "code",
   "execution_count": 26,
   "metadata": {
    "ExecuteTime": {
     "end_time": "2020-11-08T22:25:18.191234Z",
     "start_time": "2020-11-08T22:25:17.967116Z"
    }
   },
   "outputs": [],
   "source": [
    "total_word_counts = {}\n",
    "for dictionary in dictionaries:\n",
    "    for word in dictionary.keys():\n",
    "        if word in total_word_counts:\n",
    "            total_word_counts[word] += dictionary[word]\n",
    "        else:\n",
    "            total_word_counts[word] = dictionary[word]"
   ]
  },
  {
   "cell_type": "code",
   "execution_count": 27,
   "metadata": {
    "ExecuteTime": {
     "end_time": "2020-11-08T22:25:20.814098Z",
     "start_time": "2020-11-08T22:25:18.191234Z"
    }
   },
   "outputs": [
    {
     "data": {
      "image/png": "[encoded data removed]",
      "text/plain": [
       "<Figure size 360x360 with 1 Axes>"
      ]
     },
     "metadata": {
      "needs_background": "light"
     },
     "output_type": "display_data"
    }
   ],
   "source": [
    "occurances = np.sort(list(total_word_counts.values()))[::-1]\n",
    "rank = np.arange(1,len(occurances)+1)\n",
    "words = sum(occurances)\n",
    "\n",
    "plt.figure(figsize=(5,5))\n",
    "plt.scatter(rank, occurances)\n",
    "plt.plot(rank, zipfian(rank,s=1)*words, color=\"black\", zorder=1)\n",
    "plt.xscale(\"log\"); plt.yscale(\"log\")\n",
    "plt.xlabel(\"Rank\"); plt.ylabel(\"Occurnaces\")\n",
    "plt.title(\"Zipfian Distribution of the Corpus\")\n",
    "plt.savefig(\"zipfian_distribution.png\", bbox_inches=\"tight\")"
   ]
  },
  {
   "cell_type": "markdown",
   "metadata": {},
   "source": [
    "The created corpus fits the zipfian distribution rather well. Given this fact, can a good estimate of the unique number of words in a given document be found? The graph below shows that this is indeed possible, however, the size of the vocabulary used to instantiate the zipfian distribution needs to be adjusted. The vocabulary size that appears to be a good fit is 3000 words. This indicates that for a given news story there appears to be a estimated maximum vocabulary of 3000 regardless of how many words the article has."
   ]
  },
  {
   "cell_type": "code",
   "execution_count": 28,
   "metadata": {
    "ExecuteTime": {
     "end_time": "2020-11-08T22:25:40.818017Z",
     "start_time": "2020-11-08T22:25:20.814098Z"
    }
   },
   "outputs": [
    {
     "data": {
      "image/png": "[encoded data removed]",
      "text/plain": [
       "<Figure size 360x360 with 1 Axes>"
      ]
     },
     "metadata": {
      "needs_background": "light"
     },
     "output_type": "display_data"
    }
   ],
   "source": [
    "new_rank = np.arange(1,3000)\n",
    "p = zipfian(new_rank, s=1)\n",
    "n_unique = []\n",
    "n_unique_boot = []\n",
    "n_values = []\n",
    "n_values_boot = []\n",
    "\n",
    "for i in range(1,3001):\n",
    "    values = np.random.choice(new_rank, size=i, p=p)\n",
    "    n_unique.append(len(np.unique(values)))\n",
    "    n_values.append(i)\n",
    "    \n",
    "    if (i%50==0) | (i==1):\n",
    "        values_boot = [len(np.unique(np.random.choice(new_rank, size=i, p=p))) for _ in range(1000)]\n",
    "        n_unique_boot.append(np.mean(values_boot))\n",
    "        n_values_boot.append(i)\n",
    "\n",
    "n_unique = np.asarray(n_unique)\n",
    "n_unique_boot = np.asarray(n_unique_boot)\n",
    "\n",
    "plt.figure(figsize=(5,5))\n",
    "plt.scatter(n_values, n_unique, alpha=0.5, label=\"Bootstrapped\")\n",
    "plt.plot(n_values_boot, n_unique_boot, zorder=1, color=\"black\", label=\"Bootstrapped Mean\")\n",
    "plt.scatter(article_stats[:,0], article_stats[:,1], alpha=0.5, label=\"Original Data\")\n",
    "\n",
    "plt.legend(loc=\"best\")\n",
    "plt.xlabel(\"Word count\")\n",
    "plt.ylabel(\"Unique Words\")\n",
    "plt.show()"
   ]
  }
 ],
 "metadata": {
  "kernelspec": {
   "display_name": "Python 3",
   "language": "python",
   "name": "python3"
  },
  "language_info": {
   "codemirror_mode": {
    "name": "ipython",
    "version": 3
   },
   "file_extension": ".py",
   "mimetype": "text/x-python",
   "name": "python",
   "nbconvert_exporter": "python",
   "pygments_lexer": "ipython3",
   "version": "3.7.7"
  }
 },
 "nbformat": 4,
 "nbformat_minor": 4
}
